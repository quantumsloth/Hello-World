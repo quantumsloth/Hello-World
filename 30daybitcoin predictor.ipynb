{
  "nbformat": 4,
  "nbformat_minor": 0,
  "metadata": {
    "colab": {
      "name": "Untitled0.ipynb",
      "provenance": [],
      "authorship_tag": "ABX9TyOrcFtegOo7v/6MPYfsPefq",
      "include_colab_link": true
    },
    "kernelspec": {
      "name": "python3",
      "display_name": "Python 3"
    },
    "language_info": {
      "name": "python"
    }
  },
  "cells": [
    {
      "cell_type": "markdown",
      "metadata": {
        "id": "view-in-github",
        "colab_type": "text"
      },
      "source": [
        "<a href=\"https://colab.research.google.com/github/quantumsloth/Hello-World/blob/main/30daybitcoin%20predictor.ipynb\" target=\"_parent\"><img src=\"https://colab.research.google.com/assets/colab-badge.svg\" alt=\"Open In Colab\"/></a>"
      ]
    },
    {
      "cell_type": "code",
      "metadata": {
        "id": "-_VGbDqtZTVm"
      },
      "source": [
        "import numpy as np\n",
        "import pandas as pd"
      ],
      "execution_count": 4,
      "outputs": []
    },
    {
      "cell_type": "code",
      "metadata": {
        "colab": {
          "resources": {
            "http://localhost:8080/nbextensions/google.colab/files.js": {
              "data": "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",
              "ok": true,
              "headers": [
                [
                  "content-type",
                  "application/javascript"
                ]
              ],
              "status": 200,
              "status_text": ""
            }
          },
          "base_uri": "https://localhost:8080/",
          "height": 73
        },
        "id": "CrAzCpvLZp21",
        "outputId": "aafe1a17-b6d2-44b4-9db7-e8beeafce711"
      },
      "source": [
        "#Load the data\n",
        "from google.colab import files # Use to load data on Google Colab\n",
        "uploaded = files.upload() # Use to load data on Google Colab"
      ],
      "execution_count": 6,
      "outputs": [
        {
          "output_type": "display_data",
          "data": {
            "text/html": [
              "\n",
              "     <input type=\"file\" id=\"files-f209384d-38cb-4b64-8858-7b39433c99a1\" name=\"files[]\" multiple disabled\n",
              "        style=\"border:none\" />\n",
              "     <output id=\"result-f209384d-38cb-4b64-8858-7b39433c99a1\">\n",
              "      Upload widget is only available when the cell has been executed in the\n",
              "      current browser session. Please rerun this cell to enable.\n",
              "      </output>\n",
              "      <script src=\"/nbextensions/google.colab/files.js\"></script> "
            ],
            "text/plain": [
              "<IPython.core.display.HTML object>"
            ]
          },
          "metadata": {
            "tags": []
          }
        },
        {
          "output_type": "stream",
          "text": [
            "Saving market-price (4).csv to market-price (4).csv\n"
          ],
          "name": "stdout"
        }
      ]
    },
    {
      "cell_type": "code",
      "metadata": {
        "colab": {
          "base_uri": "https://localhost:8080/",
          "height": 254
        },
        "id": "u8FIpVffHaxl",
        "outputId": "7ff03002-83a6-493d-f844-97022a929d86"
      },
      "source": [
        "#Store the data into the variable df\n",
        "df = pd.read_csv('market-price (4).csv')\n",
        "df.head(7)"
      ],
      "execution_count": 7,
      "outputs": [
        {
          "output_type": "execute_result",
          "data": {
            "text/html": [
              "<div>\n",
              "<style scoped>\n",
              "    .dataframe tbody tr th:only-of-type {\n",
              "        vertical-align: middle;\n",
              "    }\n",
              "\n",
              "    .dataframe tbody tr th {\n",
              "        vertical-align: top;\n",
              "    }\n",
              "\n",
              "    .dataframe thead th {\n",
              "        text-align: right;\n",
              "    }\n",
              "</style>\n",
              "<table border=\"1\" class=\"dataframe\">\n",
              "  <thead>\n",
              "    <tr style=\"text-align: right;\">\n",
              "      <th></th>\n",
              "      <th>date</th>\n",
              "      <th>market-price</th>\n",
              "    </tr>\n",
              "  </thead>\n",
              "  <tbody>\n",
              "    <tr>\n",
              "      <th>0</th>\n",
              "      <td>2020-03-24 00:00:00</td>\n",
              "      <td>6502.16</td>\n",
              "    </tr>\n",
              "    <tr>\n",
              "      <th>1</th>\n",
              "      <td>2020-03-25 00:00:00</td>\n",
              "      <td>6768.49</td>\n",
              "    </tr>\n",
              "    <tr>\n",
              "      <th>2</th>\n",
              "      <td>2020-03-26 00:00:00</td>\n",
              "      <td>6698.46</td>\n",
              "    </tr>\n",
              "    <tr>\n",
              "      <th>3</th>\n",
              "      <td>2020-03-27 00:00:00</td>\n",
              "      <td>6763.75</td>\n",
              "    </tr>\n",
              "    <tr>\n",
              "      <th>4</th>\n",
              "      <td>2020-03-28 00:00:00</td>\n",
              "      <td>6369.09</td>\n",
              "    </tr>\n",
              "    <tr>\n",
              "      <th>5</th>\n",
              "      <td>2020-03-29 00:00:00</td>\n",
              "      <td>6260.95</td>\n",
              "    </tr>\n",
              "    <tr>\n",
              "      <th>6</th>\n",
              "      <td>2020-03-30 00:00:00</td>\n",
              "      <td>5885.41</td>\n",
              "    </tr>\n",
              "  </tbody>\n",
              "</table>\n",
              "</div>"
            ],
            "text/plain": [
              "                  date  market-price\n",
              "0  2020-03-24 00:00:00       6502.16\n",
              "1  2020-03-25 00:00:00       6768.49\n",
              "2  2020-03-26 00:00:00       6698.46\n",
              "3  2020-03-27 00:00:00       6763.75\n",
              "4  2020-03-28 00:00:00       6369.09\n",
              "5  2020-03-29 00:00:00       6260.95\n",
              "6  2020-03-30 00:00:00       5885.41"
            ]
          },
          "metadata": {
            "tags": []
          },
          "execution_count": 7
        }
      ]
    },
    {
      "cell_type": "code",
      "metadata": {
        "id": "5UwZUJU-H5Ic"
      },
      "source": [
        "#Remove the Date column\n",
        "df.drop(['date'], 1, inplace=True)"
      ],
      "execution_count": 9,
      "outputs": []
    },
    {
      "cell_type": "code",
      "metadata": {
        "colab": {
          "base_uri": "https://localhost:8080/",
          "height": 254
        },
        "id": "tQUtoOCmIFMd",
        "outputId": "c95e7a66-f2cd-4e0b-c956-49ee0ef2b6f8"
      },
      "source": [
        "#Show the first 7 rows of the new data set\n",
        "df.head(7)"
      ],
      "execution_count": 25,
      "outputs": [
        {
          "output_type": "execute_result",
          "data": {
            "text/html": [
              "<div>\n",
              "<style scoped>\n",
              "    .dataframe tbody tr th:only-of-type {\n",
              "        vertical-align: middle;\n",
              "    }\n",
              "\n",
              "    .dataframe tbody tr th {\n",
              "        vertical-align: top;\n",
              "    }\n",
              "\n",
              "    .dataframe thead th {\n",
              "        text-align: right;\n",
              "    }\n",
              "</style>\n",
              "<table border=\"1\" class=\"dataframe\">\n",
              "  <thead>\n",
              "    <tr style=\"text-align: right;\">\n",
              "      <th></th>\n",
              "      <th>market-price</th>\n",
              "    </tr>\n",
              "  </thead>\n",
              "  <tbody>\n",
              "    <tr>\n",
              "      <th>0</th>\n",
              "      <td>6502.16</td>\n",
              "    </tr>\n",
              "    <tr>\n",
              "      <th>1</th>\n",
              "      <td>6768.49</td>\n",
              "    </tr>\n",
              "    <tr>\n",
              "      <th>2</th>\n",
              "      <td>6698.46</td>\n",
              "    </tr>\n",
              "    <tr>\n",
              "      <th>3</th>\n",
              "      <td>6763.75</td>\n",
              "    </tr>\n",
              "    <tr>\n",
              "      <th>4</th>\n",
              "      <td>6369.09</td>\n",
              "    </tr>\n",
              "    <tr>\n",
              "      <th>5</th>\n",
              "      <td>6260.95</td>\n",
              "    </tr>\n",
              "    <tr>\n",
              "      <th>6</th>\n",
              "      <td>5885.41</td>\n",
              "    </tr>\n",
              "  </tbody>\n",
              "</table>\n",
              "</div>"
            ],
            "text/plain": [
              "   market-price\n",
              "0       6502.16\n",
              "1       6768.49\n",
              "2       6698.46\n",
              "3       6763.75\n",
              "4       6369.09\n",
              "5       6260.95\n",
              "6       5885.41"
            ]
          },
          "metadata": {
            "tags": []
          },
          "execution_count": 25
        }
      ]
    },
    {
      "cell_type": "code",
      "metadata": {
        "id": "eMqBqBrlIrec"
      },
      "source": [
        "#A variable for predicting 'n' days out into the future\n",
        "prediction_days = 30 #n = 30 days\n",
        "\n",
        "#Create another column (the target or dependent variable) shifted 'n' units up\n",
        "df['Prediction'] = df[['market-price']].shift(-prediction_days)"
      ],
      "execution_count": 14,
      "outputs": []
    },
    {
      "cell_type": "code",
      "metadata": {
        "colab": {
          "base_uri": "https://localhost:8080/",
          "height": 254
        },
        "id": "75m9uQRQJ8ir",
        "outputId": "1218c0f8-4028-4d77-cb4f-d4516acc5b5e"
      },
      "source": [
        "#Show the first 7 rows of the new data set\n",
        "df.head(7)"
      ],
      "execution_count": 12,
      "outputs": [
        {
          "output_type": "execute_result",
          "data": {
            "text/html": [
              "<div>\n",
              "<style scoped>\n",
              "    .dataframe tbody tr th:only-of-type {\n",
              "        vertical-align: middle;\n",
              "    }\n",
              "\n",
              "    .dataframe tbody tr th {\n",
              "        vertical-align: top;\n",
              "    }\n",
              "\n",
              "    .dataframe thead th {\n",
              "        text-align: right;\n",
              "    }\n",
              "</style>\n",
              "<table border=\"1\" class=\"dataframe\">\n",
              "  <thead>\n",
              "    <tr style=\"text-align: right;\">\n",
              "      <th></th>\n",
              "      <th>market-price</th>\n",
              "      <th>Prediction</th>\n",
              "    </tr>\n",
              "  </thead>\n",
              "  <tbody>\n",
              "    <tr>\n",
              "      <th>0</th>\n",
              "      <td>6502.16</td>\n",
              "      <td>7130.99</td>\n",
              "    </tr>\n",
              "    <tr>\n",
              "      <th>1</th>\n",
              "      <td>6768.49</td>\n",
              "      <td>7477.60</td>\n",
              "    </tr>\n",
              "    <tr>\n",
              "      <th>2</th>\n",
              "      <td>6698.46</td>\n",
              "      <td>7507.08</td>\n",
              "    </tr>\n",
              "    <tr>\n",
              "      <th>3</th>\n",
              "      <td>6763.75</td>\n",
              "      <td>7549.52</td>\n",
              "    </tr>\n",
              "    <tr>\n",
              "      <th>4</th>\n",
              "      <td>6369.09</td>\n",
              "      <td>7699.27</td>\n",
              "    </tr>\n",
              "    <tr>\n",
              "      <th>5</th>\n",
              "      <td>6260.95</td>\n",
              "      <td>7790.66</td>\n",
              "    </tr>\n",
              "    <tr>\n",
              "      <th>6</th>\n",
              "      <td>5885.41</td>\n",
              "      <td>7765.33</td>\n",
              "    </tr>\n",
              "  </tbody>\n",
              "</table>\n",
              "</div>"
            ],
            "text/plain": [
              "   market-price  Prediction\n",
              "0       6502.16     7130.99\n",
              "1       6768.49     7477.60\n",
              "2       6698.46     7507.08\n",
              "3       6763.75     7549.52\n",
              "4       6369.09     7699.27\n",
              "5       6260.95     7790.66\n",
              "6       5885.41     7765.33"
            ]
          },
          "metadata": {
            "tags": []
          },
          "execution_count": 12
        }
      ]
    },
    {
      "cell_type": "code",
      "metadata": {
        "colab": {
          "base_uri": "https://localhost:8080/",
          "height": 254
        },
        "id": "UgGbQKhKKl6Y",
        "outputId": "b75b3391-e5b1-4a7d-99ec-d30c4e82e4c2"
      },
      "source": [
        "#Show the last 7 rows of the new data set\n",
        "df.tail(7)"
      ],
      "execution_count": 15,
      "outputs": [
        {
          "output_type": "execute_result",
          "data": {
            "text/html": [
              "<div>\n",
              "<style scoped>\n",
              "    .dataframe tbody tr th:only-of-type {\n",
              "        vertical-align: middle;\n",
              "    }\n",
              "\n",
              "    .dataframe tbody tr th {\n",
              "        vertical-align: top;\n",
              "    }\n",
              "\n",
              "    .dataframe thead th {\n",
              "        text-align: right;\n",
              "    }\n",
              "</style>\n",
              "<table border=\"1\" class=\"dataframe\">\n",
              "  <thead>\n",
              "    <tr style=\"text-align: right;\">\n",
              "      <th></th>\n",
              "      <th>market-price</th>\n",
              "      <th>Prediction</th>\n",
              "    </tr>\n",
              "  </thead>\n",
              "  <tbody>\n",
              "    <tr>\n",
              "      <th>359</th>\n",
              "      <td>58913.00</td>\n",
              "      <td>NaN</td>\n",
              "    </tr>\n",
              "    <tr>\n",
              "      <th>360</th>\n",
              "      <td>57665.90</td>\n",
              "      <td>NaN</td>\n",
              "    </tr>\n",
              "    <tr>\n",
              "      <th>361</th>\n",
              "      <td>58075.10</td>\n",
              "      <td>NaN</td>\n",
              "    </tr>\n",
              "    <tr>\n",
              "      <th>362</th>\n",
              "      <td>58085.80</td>\n",
              "      <td>NaN</td>\n",
              "    </tr>\n",
              "    <tr>\n",
              "      <th>363</th>\n",
              "      <td>57411.17</td>\n",
              "      <td>NaN</td>\n",
              "    </tr>\n",
              "    <tr>\n",
              "      <th>364</th>\n",
              "      <td>54204.96</td>\n",
              "      <td>NaN</td>\n",
              "    </tr>\n",
              "    <tr>\n",
              "      <th>365</th>\n",
              "      <td>54477.46</td>\n",
              "      <td>NaN</td>\n",
              "    </tr>\n",
              "  </tbody>\n",
              "</table>\n",
              "</div>"
            ],
            "text/plain": [
              "     market-price  Prediction\n",
              "359      58913.00         NaN\n",
              "360      57665.90         NaN\n",
              "361      58075.10         NaN\n",
              "362      58085.80         NaN\n",
              "363      57411.17         NaN\n",
              "364      54204.96         NaN\n",
              "365      54477.46         NaN"
            ]
          },
          "metadata": {
            "tags": []
          },
          "execution_count": 15
        }
      ]
    },
    {
      "cell_type": "code",
      "metadata": {
        "colab": {
          "base_uri": "https://localhost:8080/"
        },
        "id": "ntmrJgheRItj",
        "outputId": "a376459c-6cb8-4d4f-ed2f-9a138a086c48"
      },
      "source": [
        "#CREATE THE INDEPENDENT DATA SET (X)\n",
        "\n",
        "# Convert the dataframe to a numpy array and drop the prediction column\n",
        "X = np.array(df.drop(['Prediction'],1))\n",
        "\n",
        "#Remove the last 'n' rows where 'n' is the prediction_days\n",
        "X= X[:len(df)-prediction_days]\n",
        "print(X)"
      ],
      "execution_count": 38,
      "outputs": [
        {
          "output_type": "stream",
          "text": [
            "[[ 6502.16]\n",
            " [ 6768.49]\n",
            " [ 6698.46]\n",
            " [ 6763.75]\n",
            " [ 6369.09]\n",
            " [ 6260.95]\n",
            " [ 5885.41]\n",
            " [ 6405.29]\n",
            " [ 6428.28]\n",
            " [ 6652.87]\n",
            " [ 6809.11]\n",
            " [ 6741.67]\n",
            " [ 6871.69]\n",
            " [ 6777.44]\n",
            " [ 7343.2 ]\n",
            " [ 7205.55]\n",
            " [ 7365.03]\n",
            " [ 7293.69]\n",
            " [ 6873.24]\n",
            " [ 6891.6 ]\n",
            " [ 6915.37]\n",
            " [ 6857.66]\n",
            " [ 6871.95]\n",
            " [ 6623.8 ]\n",
            " [ 7112.27]\n",
            " [ 7034.89]\n",
            " [ 7259.36]\n",
            " [ 7130.04]\n",
            " [ 6840.24]\n",
            " [ 6852.52]\n",
            " [ 7130.99]\n",
            " [ 7477.6 ]\n",
            " [ 7507.08]\n",
            " [ 7549.52]\n",
            " [ 7699.27]\n",
            " [ 7790.66]\n",
            " [ 7765.33]\n",
            " [ 8777.63]\n",
            " [ 8628.77]\n",
            " [ 8824.66]\n",
            " [ 8973.82]\n",
            " [ 8903.95]\n",
            " [ 8885.93]\n",
            " [ 9030.96]\n",
            " [ 9170.79]\n",
            " [10002.48]\n",
            " [ 9821.8 ]\n",
            " [ 9527.39]\n",
            " [ 8754.46]\n",
            " [ 8617.25]\n",
            " [ 8814.53]\n",
            " [ 9305.93]\n",
            " [ 9790.31]\n",
            " [ 9303.59]\n",
            " [ 9385.7 ]\n",
            " [ 9669.4 ]\n",
            " [ 9719.37]\n",
            " [ 9785.74]\n",
            " [ 9510.67]\n",
            " [ 9057.57]\n",
            " [ 9167.26]\n",
            " [ 9178.32]\n",
            " [ 8730.73]\n",
            " [ 8899.66]\n",
            " [ 8842.85]\n",
            " [ 9197.54]\n",
            " [ 9569.21]\n",
            " [ 9425.98]\n",
            " [ 9698.1 ]\n",
            " [ 9450.84]\n",
            " [10204.23]\n",
            " [ 9525.57]\n",
            " [ 9658.04]\n",
            " [ 9794.56]\n",
            " [ 9623.75]\n",
            " [ 9670.43]\n",
            " [ 9753.85]\n",
            " [ 9782.59]\n",
            " [ 9775.15]\n",
            " [ 9892.13]\n",
            " [ 9286.42]\n",
            " [ 9459.97]\n",
            " [ 9473.5 ]\n",
            " [ 9330.07]\n",
            " [ 9426.7 ]\n",
            " [ 9526.  ]\n",
            " [ 9454.81]\n",
            " [ 9380.03]\n",
            " [ 9300.15]\n",
            " [ 9357.43]\n",
            " [ 9284.78]\n",
            " [ 9691.9 ]\n",
            " [ 9621.49]\n",
            " [ 9276.58]\n",
            " [ 9240.85]\n",
            " [ 9154.45]\n",
            " [ 9004.23]\n",
            " [ 9127.47]\n",
            " [ 9185.35]\n",
            " [ 9133.97]\n",
            " [ 9236.38]\n",
            " [ 9087.98]\n",
            " [ 9072.42]\n",
            " [ 9131.31]\n",
            " [ 9089.09]\n",
            " [ 9348.91]\n",
            " [ 9256.23]\n",
            " [ 9440.07]\n",
            " [ 9238.04]\n",
            " [ 9287.4 ]\n",
            " [ 9235.96]\n",
            " [ 9295.9 ]\n",
            " [ 9238.13]\n",
            " [ 9254.52]\n",
            " [ 9193.51]\n",
            " [ 9131.  ]\n",
            " [ 9154.19]\n",
            " [ 9174.71]\n",
            " [ 9214.66]\n",
            " [ 9163.87]\n",
            " [ 9392.66]\n",
            " [ 9537.4 ]\n",
            " [ 9613.11]\n",
            " [ 9551.28]\n",
            " [ 9707.5 ]\n",
            " [ 9938.83]\n",
            " [11042.4 ]\n",
            " [10934.94]\n",
            " [11102.67]\n",
            " [11114.93]\n",
            " [11343.88]\n",
            " [11823.69]\n",
            " [11077.77]\n",
            " [11242.57]\n",
            " [11194.25]\n",
            " [11750.28]\n",
            " [11772.94]\n",
            " [11605.6 ]\n",
            " [11767.6 ]\n",
            " [11684.06]\n",
            " [11893.03]\n",
            " [11392.43]\n",
            " [11573.11]\n",
            " [11777.43]\n",
            " [11774.38]\n",
            " [11873.98]\n",
            " [11914.01]\n",
            " [12293.72]\n",
            " [11969.53]\n",
            " [11734.  ]\n",
            " [11865.82]\n",
            " [11522.8 ]\n",
            " [11683.44]\n",
            " [11653.02]\n",
            " [11763.93]\n",
            " [11337.4 ]\n",
            " [11467.37]\n",
            " [11302.01]\n",
            " [11534.75]\n",
            " [11481.64]\n",
            " [11707.78]\n",
            " [11659.57]\n",
            " [11923.25]\n",
            " [11397.44]\n",
            " [10187.51]\n",
            " [10467.89]\n",
            " [10159.62]\n",
            " [10254.93]\n",
            " [10367.74]\n",
            " [10121.52]\n",
            " [10227.83]\n",
            " [10352.66]\n",
            " [10395.44]\n",
            " [10446.44]\n",
            " [10330.77]\n",
            " [10674.64]\n",
            " [10785.62]\n",
            " [10948.43]\n",
            " [10943.89]\n",
            " [10931.79]\n",
            " [11081.43]\n",
            " [10919.65]\n",
            " [10430.46]\n",
            " [10532.22]\n",
            " [10234.48]\n",
            " [10732.43]\n",
            " [10692.84]\n",
            " [10732.4 ]\n",
            " [10774.24]\n",
            " [10692.33]\n",
            " [10840.8 ]\n",
            " [10777.92]\n",
            " [10619.24]\n",
            " [10575.06]\n",
            " [10551.77]\n",
            " [10673.46]\n",
            " [10788.56]\n",
            " [10603.74]\n",
            " [10670.8 ]\n",
            " [10923.3 ]\n",
            " [11063.19]\n",
            " [11302.67]\n",
            " [11376.61]\n",
            " [11540.04]\n",
            " [11428.24]\n",
            " [11431.32]\n",
            " [11503.73]\n",
            " [11327.57]\n",
            " [11366.51]\n",
            " [11508.2 ]\n",
            " [11758.16]\n",
            " [11925.46]\n",
            " [12831.56]\n",
            " [12990.25]\n",
            " [12944.52]\n",
            " [13128.46]\n",
            " [13036.77]\n",
            " [13076.37]\n",
            " [13651.47]\n",
            " [13289.  ]\n",
            " [13458.66]\n",
            " [13564.72]\n",
            " [13810.32]\n",
            " [13758.88]\n",
            " [13575.17]\n",
            " [14023.31]\n",
            " [14155.59]\n",
            " [15591.39]\n",
            " [15595.77]\n",
            " [14839.84]\n",
            " [15490.6 ]\n",
            " [15328.53]\n",
            " [15317.04]\n",
            " [15708.65]\n",
            " [16295.57]\n",
            " [16339.33]\n",
            " [16091.07]\n",
            " [15968.16]\n",
            " [16725.15]\n",
            " [17679.72]\n",
            " [17798.45]\n",
            " [17820.57]\n",
            " [18687.45]\n",
            " [18699.75]\n",
            " [18422.28]\n",
            " [18398.91]\n",
            " [19172.52]\n",
            " [18739.8 ]\n",
            " [17151.44]\n",
            " [17138.87]\n",
            " [17732.42]\n",
            " [18191.6 ]\n",
            " [19709.73]\n",
            " [18792.52]\n",
            " [19226.97]\n",
            " [19454.54]\n",
            " [18670.49]\n",
            " [19155.06]\n",
            " [19377.66]\n",
            " [19181.41]\n",
            " [18318.87]\n",
            " [18554.15]\n",
            " [18247.76]\n",
            " [18029.36]\n",
            " [18803.44]\n",
            " [19164.48]\n",
            " [19276.59]\n",
            " [19439.75]\n",
            " [21379.48]\n",
            " [22847.46]\n",
            " [23150.79]\n",
            " [23869.92]\n",
            " [23490.58]\n",
            " [22745.48]\n",
            " [23824.99]\n",
            " [23253.37]\n",
            " [23715.53]\n",
            " [24693.58]\n",
            " [26443.21]\n",
            " [26246.58]\n",
            " [27036.69]\n",
            " [27376.37]\n",
            " [28856.59]\n",
            " [28982.56]\n",
            " [29393.75]\n",
            " [32195.46]\n",
            " [33000.78]\n",
            " [32035.03]\n",
            " [34046.67]\n",
            " [36860.41]\n",
            " [39486.04]\n",
            " [40670.25]\n",
            " [40240.72]\n",
            " [38240.09]\n",
            " [35544.94]\n",
            " [34011.82]\n",
            " [37393.13]\n",
            " [39158.47]\n",
            " [36828.52]\n",
            " [36065.2 ]\n",
            " [35793.01]\n",
            " [36632.35]\n",
            " [36020.13]\n",
            " [35538.98]\n",
            " [30797.88]\n",
            " [33002.38]\n",
            " [32099.74]\n",
            " [32276.84]\n",
            " [32243.26]\n",
            " [32541.8 ]\n",
            " [30419.17]\n",
            " [33403.17]\n",
            " [34314.26]\n",
            " [34318.1 ]\n",
            " [33136.46]\n",
            " [33522.9 ]\n",
            " [35529.66]\n",
            " [37676.25]\n",
            " [37002.09]\n",
            " [38278.61]\n",
            " [39323.26]\n",
            " [38928.1 ]\n",
            " [46364.3 ]\n",
            " [46589.58]\n",
            " [44878.17]\n",
            " [48013.38]\n",
            " [47471.4 ]\n",
            " [47185.19]\n",
            " [48720.37]\n",
            " [47951.85]\n",
            " [49160.1 ]\n",
            " [52118.23]\n",
            " [51608.15]\n",
            " [55916.5 ]\n",
            " [56001.2 ]\n",
            " [57487.86]]\n"
          ],
          "name": "stdout"
        }
      ]
    },
    {
      "cell_type": "code",
      "metadata": {
        "colab": {
          "base_uri": "https://localhost:8080/"
        },
        "id": "TaQziq2kONm9",
        "outputId": "f47aaf6d-8681-4a07-b82c-ab269c0378d2"
      },
      "source": [
        "#CREATE THE DEPENDENT DATA SET (y) \n",
        "# Convert the dataframe to a numpy array (All of the values including the NaN's) y = np.array(df['Prediction'])  \n",
        "# Get all of the y values except the last 'n' rows \n",
        "y = y[:-prediction_days] \n",
        "print(y)"
      ],
      "execution_count": 49,
      "outputs": [
        {
          "output_type": "stream",
          "text": [
            "[ 7130.99  7477.6   7507.08  7549.52  7699.27  7790.66  7765.33  8777.63\n",
            "  8628.77  8824.66  8973.82  8903.95  8885.93  9030.96  9170.79 10002.48\n",
            "  9821.8   9527.39  8754.46  8617.25  8814.53  9305.93  9790.31  9303.59\n",
            "  9385.7   9669.4   9719.37  9785.74  9510.67  9057.57  9167.26  9178.32\n",
            "  8730.73  8899.66  8842.85  9197.54  9569.21  9425.98  9698.1   9450.84\n",
            " 10204.23  9525.57  9658.04  9794.56  9623.75  9670.43  9753.85  9782.59\n",
            "  9775.15  9892.13  9286.42  9459.97  9473.5   9330.07  9426.7   9526.\n",
            "  9454.81  9380.03  9300.15  9357.43  9284.78  9691.9   9621.49  9276.58\n",
            "  9240.85  9154.45  9004.23  9127.47  9185.35  9133.97  9236.38  9087.98\n",
            "  9072.42  9131.31  9089.09  9348.91  9256.23  9440.07  9238.04  9287.4\n",
            "  9235.96  9295.9   9238.13  9254.52  9193.51  9131.    9154.19  9174.71\n",
            "  9214.66  9163.87  9392.66  9537.4   9613.11  9551.28  9707.5   9938.83\n",
            " 11042.4  10934.94 11102.67 11114.93 11343.88 11823.69 11077.77 11242.57\n",
            " 11194.25 11750.28 11772.94 11605.6  11767.6  11684.06 11893.03 11392.43\n",
            " 11573.11 11777.43 11774.38 11873.98 11914.01 12293.72 11969.53 11734.\n",
            " 11865.82 11522.8  11683.44 11653.02 11763.93 11337.4  11467.37 11302.01\n",
            " 11534.75 11481.64 11707.78 11659.57 11923.25 11397.44 10187.51 10467.89\n",
            " 10159.62 10254.93 10367.74 10121.52 10227.83 10352.66 10395.44 10446.44\n",
            " 10330.77 10674.64 10785.62 10948.43 10943.89 10931.79 11081.43 10919.65\n",
            " 10430.46 10532.22 10234.48 10732.43 10692.84 10732.4  10774.24 10692.33\n",
            " 10840.8  10777.92 10619.24 10575.06 10551.77 10673.46 10788.56 10603.74\n",
            " 10670.8  10923.3  11063.19 11302.67 11376.61 11540.04 11428.24 11431.32\n",
            " 11503.73 11327.57 11366.51 11508.2  11758.16 11925.46 12831.56 12990.25\n",
            " 12944.52 13128.46 13036.77 13076.37 13651.47 13289.   13458.66 13564.72\n",
            " 13810.32 13758.88 13575.17 14023.31 14155.59 15591.39 15595.77 14839.84\n",
            " 15490.6  15328.53 15317.04 15708.65 16295.57 16339.33 16091.07 15968.16\n",
            " 16725.15 17679.72 17798.45 17820.57 18687.45 18699.75 18422.28 18398.91\n",
            " 19172.52 18739.8  17151.44 17138.87 17732.42 18191.6  19709.73 18792.52\n",
            " 19226.97 19454.54 18670.49 19155.06 19377.66 19181.41 18318.87 18554.15\n",
            " 18247.76 18029.36 18803.44 19164.48 19276.59 19439.75 21379.48 22847.46\n",
            " 23150.79 23869.92 23490.58 22745.48 23824.99 23253.37 23715.53 24693.58\n",
            " 26443.21 26246.58 27036.69 27376.37 28856.59 28982.56 29393.75 32195.46\n",
            " 33000.78 32035.03 34046.67 36860.41 39486.04 40670.25 40240.72 38240.09\n",
            " 35544.94 34011.82 37393.13 39158.47 36828.52 36065.2  35793.01 36632.35\n",
            " 36020.13 35538.98 30797.88 33002.38 32099.74 32276.84 32243.26 32541.8\n",
            " 30419.17 33403.17 34314.26 34318.1  33136.46 33522.9  35529.66 37676.25\n",
            " 37002.09 38278.61 39323.26 38928.1  46364.3  46589.58 44878.17 48013.38\n",
            " 47471.4  47185.19 48720.37 47951.85 49160.1  52118.23 51608.15 55916.5\n",
            " 56001.2  57487.86]\n"
          ],
          "name": "stdout"
        }
      ]
    },
    {
      "cell_type": "code",
      "metadata": {
        "id": "iwrixqYUPQyM"
      },
      "source": [
        ""
      ],
      "execution_count": null,
      "outputs": []
    },
    {
      "cell_type": "code",
      "metadata": {
        "id": "LS9Y7uY-PVtv"
      },
      "source": [
        ""
      ],
      "execution_count": null,
      "outputs": []
    },
    {
      "cell_type": "code",
      "metadata": {
        "id": "hpmqGm9YOUER"
      },
      "source": [
        "# Split the data into 80% training and 20% testing\n",
        "from sklearn.model_selection import train_test_split\n",
        "x_train, x_test, y_train, y_test = train_test_split(X, y, test_size=0.2)"
      ],
      "execution_count": 48,
      "outputs": []
    },
    {
      "cell_type": "code",
      "metadata": {
        "colab": {
          "base_uri": "https://localhost:8080/"
        },
        "id": "3CQwM_HmOeHH",
        "outputId": "2f7a43a8-2440-48cc-eb3a-1b39ceacbdaa"
      },
      "source": [
        "# Set prediction_days_array equal to the last 30 rows of the original data set from the price column\n",
        "prediction_days_array = np.array(df.drop(['Prediction'],1))[-prediction_days:]\n",
        "print(prediction_days_array)"
      ],
      "execution_count": 47,
      "outputs": [
        {
          "output_type": "stream",
          "text": [
            "[[54123.4 ]\n",
            " [48880.43]\n",
            " [50624.84]\n",
            " [46800.42]\n",
            " [46340.31]\n",
            " [46155.87]\n",
            " [45113.92]\n",
            " [49618.43]\n",
            " [48356.04]\n",
            " [50477.7 ]\n",
            " [48448.91]\n",
            " [48861.38]\n",
            " [48881.59]\n",
            " [51169.7 ]\n",
            " [52299.33]\n",
            " [54881.52]\n",
            " [55997.23]\n",
            " [57764.  ]\n",
            " [57253.28]\n",
            " [61258.73]\n",
            " [59133.47]\n",
            " [55754.72]\n",
            " [56872.38]\n",
            " [58913.  ]\n",
            " [57665.9 ]\n",
            " [58075.1 ]\n",
            " [58085.8 ]\n",
            " [57411.17]\n",
            " [54204.96]\n",
            " [54477.46]]\n"
          ],
          "name": "stdout"
        }
      ]
    },
    {
      "cell_type": "code",
      "metadata": {
        "colab": {
          "base_uri": "https://localhost:8080/"
        },
        "id": "2hPU7V9VOlab",
        "outputId": "0df519d5-1c5a-4dd0-c0c1-74579fbd0089"
      },
      "source": [
        "from sklearn.svm import SVR\n",
        "# Create and train the Support Vector Machine \n",
        "svr_rbf = SVR(kernel='rbf', C=1e3, gamma=0.00001)#Create the model\n",
        "svr_rbf.fit(x_train, y_train) #Train the model"
      ],
      "execution_count": 46,
      "outputs": [
        {
          "output_type": "execute_result",
          "data": {
            "text/plain": [
              "SVR(C=1000.0, cache_size=200, coef0=0.0, degree=3, epsilon=0.1, gamma=1e-05,\n",
              "    kernel='rbf', max_iter=-1, shrinking=True, tol=0.001, verbose=False)"
            ]
          },
          "metadata": {
            "tags": []
          },
          "execution_count": 46
        }
      ]
    },
    {
      "cell_type": "code",
      "metadata": {
        "colab": {
          "base_uri": "https://localhost:8080/"
        },
        "id": "6-zXhWmlOuAP",
        "outputId": "d6d57687-2c7a-402e-d3a9-b7e95342bddb"
      },
      "source": [
        "# Testing Model: Score returns the accuracy of the prediction. \n",
        "# The best possible score is 1.0\n",
        "svr_rbf_confidence = svr_rbf.score(x_test, y_test)\n",
        "print(\"svr_rbf accuracy: \", svr_rbf_confidence)"
      ],
      "execution_count": 45,
      "outputs": [
        {
          "output_type": "stream",
          "text": [
            "svr_rbf accuracy:  0.3599413529002047\n"
          ],
          "name": "stdout"
        }
      ]
    },
    {
      "cell_type": "code",
      "metadata": {
        "colab": {
          "base_uri": "https://localhost:8080/"
        },
        "id": "ThDYj7UdO4EN",
        "outputId": "a17b4076-d4a4-4876-ce60-926a0256a219"
      },
      "source": [
        "# Print the predicted value\n",
        "svm_prediction = svr_rbf.predict(x_test)\n",
        "print(svm_prediction)\n",
        "\n",
        "print()\n",
        "\n",
        "#Print the actual values\n",
        "print(y_test)"
      ],
      "execution_count": 50,
      "outputs": [
        {
          "output_type": "stream",
          "text": [
            "[11170.03069204 14583.33904558 11345.69289209 10534.33187292\n",
            " 17940.15459454 12148.47651462  9851.61961044 18959.02210983\n",
            " 23159.02010276 11366.94975412 12108.26074352 11915.59547724\n",
            " 22619.42107295  9376.49266567 21850.55460884 11442.53114601\n",
            " 17879.18610502 19164.38034624 10239.60035052 10735.46937553\n",
            " 11970.21320421  9436.30561613  9181.96062393 18399.0102006\n",
            " 18627.70094483 11582.10752005 11354.0331719  24222.54739718\n",
            " 11115.59067756  9510.76942983 21830.15541753 21105.23311199\n",
            " 20008.79687435 11726.57850855 21401.54764154 13824.47271123\n",
            " 11738.72542763 18963.51015117 20906.91493914 21620.7279736\n",
            " 13932.62429862 19181.31034802  9390.84925974 10461.08786137\n",
            " 18687.55027865 23253.26986413 24555.76846139 13453.65128074\n",
            " 12426.97758069 11829.85193092 11728.73802532 20643.69814675\n",
            " 22802.33345705 11724.81451747 12647.88183736 16819.26248937\n",
            " 11647.84816516  9440.61750361 10302.06532978 14180.92978263\n",
            " 11148.62819969 19275.51618415 11589.03716485 10076.23656309\n",
            " 20091.68979728 10926.29276159 11228.55452974 10375.87122602]\n",
            "\n",
            "[11337.4   7699.27  9303.59 10204.23 19226.97 11302.67  7477.6  18029.36\n",
            " 35544.94 16091.07  9892.13 17820.57 55916.5   9133.97 30797.88 10692.33\n",
            " 17138.87 19164.48  9170.79 10159.62 15490.6   9526.    9131.   18398.91\n",
            " 19172.52 16339.33  8899.66 34046.67 11774.38  9510.67 51608.15 35538.98\n",
            " 58085.8  11063.19 48720.37 13076.37 10187.51 19377.66 52299.33 47951.85\n",
            " 15595.77 19181.41  9072.42  7507.08 18687.45 23253.37 29393.75 12990.25\n",
            " 11376.61 11481.64 11397.44 32243.26 23869.92 15328.53 11508.2  10948.43\n",
            " 10575.06  9348.91  9821.8   9197.54 11102.67 19454.54 16295.57  9719.37\n",
            " 39323.26  9794.56 15708.65  9330.07]\n"
          ],
          "name": "stdout"
        }
      ]
    },
    {
      "cell_type": "code",
      "metadata": {
        "colab": {
          "base_uri": "https://localhost:8080/"
        },
        "id": "Ob3AQL-kPYqQ",
        "outputId": "6dd1d7ec-f2ee-4cc3-95ed-0c2608d007bc"
      },
      "source": [
        "# Print the model predictions for the next 'n=30' days\n",
        "svm_prediction = svr_rbf.predict(prediction_days_array)\n",
        "print(svm_prediction)"
      ],
      "execution_count": 52,
      "outputs": [
        {
          "output_type": "stream",
          "text": [
            "[18934.6580593  20166.61481568 18934.72127394 19963.66335042\n",
            " 20466.93216914 19734.74744439 19508.28252274 19057.3475312\n",
            " 19510.8695957  18934.66090704 19569.71897567 20164.79129823\n",
            " 20166.69615389 19081.03969231 19663.45989369 18934.68033897\n",
            " 19871.56311601 19401.14138814 19511.44765339 18934.6580593\n",
            " 18934.6580593  19704.37866171 18957.4029616  18934.65806081\n",
            " 19663.00162151 18966.45108992 18962.66445335 19877.54060235\n",
            " 18934.6580593  18934.65806031]\n"
          ],
          "name": "stdout"
        }
      ]
    },
    {
      "cell_type": "code",
      "metadata": {
        "colab": {
          "base_uri": "https://localhost:8080/",
          "height": 935
        },
        "id": "TXYmUka_P24z",
        "outputId": "78151ce5-7a9e-45d6-d00d-19af1111d6bc"
      },
      "source": [
        "#Print the actual price for the next 'n' days, n=prediction_days=30 \n",
        "df.tail(prediction_days)"
      ],
      "execution_count": 53,
      "outputs": [
        {
          "output_type": "execute_result",
          "data": {
            "text/html": [
              "<div>\n",
              "<style scoped>\n",
              "    .dataframe tbody tr th:only-of-type {\n",
              "        vertical-align: middle;\n",
              "    }\n",
              "\n",
              "    .dataframe tbody tr th {\n",
              "        vertical-align: top;\n",
              "    }\n",
              "\n",
              "    .dataframe thead th {\n",
              "        text-align: right;\n",
              "    }\n",
              "</style>\n",
              "<table border=\"1\" class=\"dataframe\">\n",
              "  <thead>\n",
              "    <tr style=\"text-align: right;\">\n",
              "      <th></th>\n",
              "      <th>market-price</th>\n",
              "      <th>Prediction</th>\n",
              "    </tr>\n",
              "  </thead>\n",
              "  <tbody>\n",
              "    <tr>\n",
              "      <th>336</th>\n",
              "      <td>54123.40</td>\n",
              "      <td>NaN</td>\n",
              "    </tr>\n",
              "    <tr>\n",
              "      <th>337</th>\n",
              "      <td>48880.43</td>\n",
              "      <td>NaN</td>\n",
              "    </tr>\n",
              "    <tr>\n",
              "      <th>338</th>\n",
              "      <td>50624.84</td>\n",
              "      <td>NaN</td>\n",
              "    </tr>\n",
              "    <tr>\n",
              "      <th>339</th>\n",
              "      <td>46800.42</td>\n",
              "      <td>NaN</td>\n",
              "    </tr>\n",
              "    <tr>\n",
              "      <th>340</th>\n",
              "      <td>46340.31</td>\n",
              "      <td>NaN</td>\n",
              "    </tr>\n",
              "    <tr>\n",
              "      <th>341</th>\n",
              "      <td>46155.87</td>\n",
              "      <td>NaN</td>\n",
              "    </tr>\n",
              "    <tr>\n",
              "      <th>342</th>\n",
              "      <td>45113.92</td>\n",
              "      <td>NaN</td>\n",
              "    </tr>\n",
              "    <tr>\n",
              "      <th>343</th>\n",
              "      <td>49618.43</td>\n",
              "      <td>NaN</td>\n",
              "    </tr>\n",
              "    <tr>\n",
              "      <th>344</th>\n",
              "      <td>48356.04</td>\n",
              "      <td>NaN</td>\n",
              "    </tr>\n",
              "    <tr>\n",
              "      <th>345</th>\n",
              "      <td>50477.70</td>\n",
              "      <td>NaN</td>\n",
              "    </tr>\n",
              "    <tr>\n",
              "      <th>346</th>\n",
              "      <td>48448.91</td>\n",
              "      <td>NaN</td>\n",
              "    </tr>\n",
              "    <tr>\n",
              "      <th>347</th>\n",
              "      <td>48861.38</td>\n",
              "      <td>NaN</td>\n",
              "    </tr>\n",
              "    <tr>\n",
              "      <th>348</th>\n",
              "      <td>48881.59</td>\n",
              "      <td>NaN</td>\n",
              "    </tr>\n",
              "    <tr>\n",
              "      <th>349</th>\n",
              "      <td>51169.70</td>\n",
              "      <td>NaN</td>\n",
              "    </tr>\n",
              "    <tr>\n",
              "      <th>350</th>\n",
              "      <td>52299.33</td>\n",
              "      <td>NaN</td>\n",
              "    </tr>\n",
              "    <tr>\n",
              "      <th>351</th>\n",
              "      <td>54881.52</td>\n",
              "      <td>NaN</td>\n",
              "    </tr>\n",
              "    <tr>\n",
              "      <th>352</th>\n",
              "      <td>55997.23</td>\n",
              "      <td>NaN</td>\n",
              "    </tr>\n",
              "    <tr>\n",
              "      <th>353</th>\n",
              "      <td>57764.00</td>\n",
              "      <td>NaN</td>\n",
              "    </tr>\n",
              "    <tr>\n",
              "      <th>354</th>\n",
              "      <td>57253.28</td>\n",
              "      <td>NaN</td>\n",
              "    </tr>\n",
              "    <tr>\n",
              "      <th>355</th>\n",
              "      <td>61258.73</td>\n",
              "      <td>NaN</td>\n",
              "    </tr>\n",
              "    <tr>\n",
              "      <th>356</th>\n",
              "      <td>59133.47</td>\n",
              "      <td>NaN</td>\n",
              "    </tr>\n",
              "    <tr>\n",
              "      <th>357</th>\n",
              "      <td>55754.72</td>\n",
              "      <td>NaN</td>\n",
              "    </tr>\n",
              "    <tr>\n",
              "      <th>358</th>\n",
              "      <td>56872.38</td>\n",
              "      <td>NaN</td>\n",
              "    </tr>\n",
              "    <tr>\n",
              "      <th>359</th>\n",
              "      <td>58913.00</td>\n",
              "      <td>NaN</td>\n",
              "    </tr>\n",
              "    <tr>\n",
              "      <th>360</th>\n",
              "      <td>57665.90</td>\n",
              "      <td>NaN</td>\n",
              "    </tr>\n",
              "    <tr>\n",
              "      <th>361</th>\n",
              "      <td>58075.10</td>\n",
              "      <td>NaN</td>\n",
              "    </tr>\n",
              "    <tr>\n",
              "      <th>362</th>\n",
              "      <td>58085.80</td>\n",
              "      <td>NaN</td>\n",
              "    </tr>\n",
              "    <tr>\n",
              "      <th>363</th>\n",
              "      <td>57411.17</td>\n",
              "      <td>NaN</td>\n",
              "    </tr>\n",
              "    <tr>\n",
              "      <th>364</th>\n",
              "      <td>54204.96</td>\n",
              "      <td>NaN</td>\n",
              "    </tr>\n",
              "    <tr>\n",
              "      <th>365</th>\n",
              "      <td>54477.46</td>\n",
              "      <td>NaN</td>\n",
              "    </tr>\n",
              "  </tbody>\n",
              "</table>\n",
              "</div>"
            ],
            "text/plain": [
              "     market-price  Prediction\n",
              "336      54123.40         NaN\n",
              "337      48880.43         NaN\n",
              "338      50624.84         NaN\n",
              "339      46800.42         NaN\n",
              "340      46340.31         NaN\n",
              "341      46155.87         NaN\n",
              "342      45113.92         NaN\n",
              "343      49618.43         NaN\n",
              "344      48356.04         NaN\n",
              "345      50477.70         NaN\n",
              "346      48448.91         NaN\n",
              "347      48861.38         NaN\n",
              "348      48881.59         NaN\n",
              "349      51169.70         NaN\n",
              "350      52299.33         NaN\n",
              "351      54881.52         NaN\n",
              "352      55997.23         NaN\n",
              "353      57764.00         NaN\n",
              "354      57253.28         NaN\n",
              "355      61258.73         NaN\n",
              "356      59133.47         NaN\n",
              "357      55754.72         NaN\n",
              "358      56872.38         NaN\n",
              "359      58913.00         NaN\n",
              "360      57665.90         NaN\n",
              "361      58075.10         NaN\n",
              "362      58085.80         NaN\n",
              "363      57411.17         NaN\n",
              "364      54204.96         NaN\n",
              "365      54477.46         NaN"
            ]
          },
          "metadata": {
            "tags": []
          },
          "execution_count": 53
        }
      ]
    }
  ]
}